{
 "cells": [
  {
   "cell_type": "code",
   "execution_count": 24,
   "id": "initial_id",
   "metadata": {
    "collapsed": true,
    "ExecuteTime": {
     "end_time": "2023-11-11T23:39:43.666737Z",
     "start_time": "2023-11-11T23:39:42.580539Z"
    }
   },
   "outputs": [
    {
     "name": "stdout",
     "output_type": "stream",
     "text": [
      "Missing values:\n",
      " id                  0\n",
      "age                 9\n",
      "bp                 12\n",
      "sg                 47\n",
      "al                 46\n",
      "su                 49\n",
      "rbc               152\n",
      "pc                 65\n",
      "pcc                 4\n",
      "ba                  4\n",
      "bgr                44\n",
      "bu                 19\n",
      "sc                 17\n",
      "sod                87\n",
      "pot                88\n",
      "hemo               52\n",
      "pcv                70\n",
      "wc                105\n",
      "rc                130\n",
      "htn                 2\n",
      "dm                  2\n",
      "cad                 2\n",
      "appet               1\n",
      "pe                  1\n",
      "ane                 1\n",
      "classification      0\n",
      "dtype: int64\n"
     ]
    },
    {
     "name": "stderr",
     "output_type": "stream",
     "text": [
      "/var/folders/gs/tjq0574s2hg_7z341jm8cy1w0000gn/T/ipykernel_3476/858552926.py:24: FutureWarning: In a future version, the Index constructor will not infer numeric dtypes when passed object-dtype sequences (matching Series behavior)\n",
      "  X_imputed = pd.get_dummies(X_imputed, drop_first=True)\n",
      "/var/folders/gs/tjq0574s2hg_7z341jm8cy1w0000gn/T/ipykernel_3476/858552926.py:24: FutureWarning: In a future version, the Index constructor will not infer numeric dtypes when passed object-dtype sequences (matching Series behavior)\n",
      "  X_imputed = pd.get_dummies(X_imputed, drop_first=True)\n",
      "/var/folders/gs/tjq0574s2hg_7z341jm8cy1w0000gn/T/ipykernel_3476/858552926.py:24: FutureWarning: In a future version, the Index constructor will not infer numeric dtypes when passed object-dtype sequences (matching Series behavior)\n",
      "  X_imputed = pd.get_dummies(X_imputed, drop_first=True)\n",
      "/var/folders/gs/tjq0574s2hg_7z341jm8cy1w0000gn/T/ipykernel_3476/858552926.py:24: FutureWarning: In a future version, the Index constructor will not infer numeric dtypes when passed object-dtype sequences (matching Series behavior)\n",
      "  X_imputed = pd.get_dummies(X_imputed, drop_first=True)\n",
      "/var/folders/gs/tjq0574s2hg_7z341jm8cy1w0000gn/T/ipykernel_3476/858552926.py:24: FutureWarning: In a future version, the Index constructor will not infer numeric dtypes when passed object-dtype sequences (matching Series behavior)\n",
      "  X_imputed = pd.get_dummies(X_imputed, drop_first=True)\n",
      "/var/folders/gs/tjq0574s2hg_7z341jm8cy1w0000gn/T/ipykernel_3476/858552926.py:24: FutureWarning: In a future version, the Index constructor will not infer numeric dtypes when passed object-dtype sequences (matching Series behavior)\n",
      "  X_imputed = pd.get_dummies(X_imputed, drop_first=True)\n",
      "/var/folders/gs/tjq0574s2hg_7z341jm8cy1w0000gn/T/ipykernel_3476/858552926.py:24: FutureWarning: In a future version, the Index constructor will not infer numeric dtypes when passed object-dtype sequences (matching Series behavior)\n",
      "  X_imputed = pd.get_dummies(X_imputed, drop_first=True)\n",
      "/var/folders/gs/tjq0574s2hg_7z341jm8cy1w0000gn/T/ipykernel_3476/858552926.py:24: FutureWarning: In a future version, the Index constructor will not infer numeric dtypes when passed object-dtype sequences (matching Series behavior)\n",
      "  X_imputed = pd.get_dummies(X_imputed, drop_first=True)\n",
      "/var/folders/gs/tjq0574s2hg_7z341jm8cy1w0000gn/T/ipykernel_3476/858552926.py:24: FutureWarning: In a future version, the Index constructor will not infer numeric dtypes when passed object-dtype sequences (matching Series behavior)\n",
      "  X_imputed = pd.get_dummies(X_imputed, drop_first=True)\n",
      "/var/folders/gs/tjq0574s2hg_7z341jm8cy1w0000gn/T/ipykernel_3476/858552926.py:24: FutureWarning: In a future version, the Index constructor will not infer numeric dtypes when passed object-dtype sequences (matching Series behavior)\n",
      "  X_imputed = pd.get_dummies(X_imputed, drop_first=True)\n",
      "/var/folders/gs/tjq0574s2hg_7z341jm8cy1w0000gn/T/ipykernel_3476/858552926.py:24: FutureWarning: In a future version, the Index constructor will not infer numeric dtypes when passed object-dtype sequences (matching Series behavior)\n",
      "  X_imputed = pd.get_dummies(X_imputed, drop_first=True)\n",
      "/var/folders/gs/tjq0574s2hg_7z341jm8cy1w0000gn/T/ipykernel_3476/858552926.py:24: FutureWarning: In a future version, the Index constructor will not infer numeric dtypes when passed object-dtype sequences (matching Series behavior)\n",
      "  X_imputed = pd.get_dummies(X_imputed, drop_first=True)\n"
     ]
    },
    {
     "name": "stdout",
     "output_type": "stream",
     "text": [
      "Confusion Matrix:\n",
      " [[76  0]\n",
      " [ 0 44]]\n",
      "\n",
      "Classification Report:\n",
      "               precision    recall  f1-score   support\n",
      "\n",
      "         ckd       1.00      1.00      1.00        76\n",
      "      notckd       1.00      1.00      1.00        44\n",
      "\n",
      "    accuracy                           1.00       120\n",
      "   macro avg       1.00      1.00      1.00       120\n",
      "weighted avg       1.00      1.00      1.00       120\n",
      "\n",
      "Accuracy: 1.0000\n",
      "F1 Score: 1.0000\n"
     ]
    }
   ],
   "source": [
    "import pandas as pd\n",
    "from sklearn.model_selection import train_test_split\n",
    "from sklearn.preprocessing import StandardScaler\n",
    "from sklearn.impute import SimpleImputer\n",
    "from sklearn.linear_model import LogisticRegression\n",
    "from sklearn.metrics import accuracy_score, f1_score, confusion_matrix, classification_report\n",
    "\n",
    "# Load the dataset from the CSV file\n",
    "df = pd.read_csv('kidney_disease.csv')\n",
    "\n",
    "# Check for missing values\n",
    "print(\"Missing values:\\n\", df.isnull().sum())\n",
    "\n",
    "# Assuming 'classification' is the target variable\n",
    "# Separate features (X) and target variable (y)\n",
    "X = df.drop('classification', axis=1)\n",
    "y = df['classification']\n",
    "\n",
    "# Handle missing values by imputing with the most frequent value\n",
    "imputer = SimpleImputer(strategy='most_frequent')\n",
    "X_imputed = pd.DataFrame(imputer.fit_transform(X), columns=X.columns)\n",
    "\n",
    "# One-hot encode categorical variables\n",
    "X_imputed = pd.get_dummies(X_imputed, drop_first=True)\n",
    "\n",
    "# Split the data into training and testing sets (70% training, 30% testing)\n",
    "X_train, X_test, y_train, y_test = train_test_split(X_imputed, y, test_size=0.3, random_state=42)\n",
    "\n",
    "# Standardize the features using StandardScaler\n",
    "sc = StandardScaler()\n",
    "X_train = sc.fit_transform(X_train)\n",
    "X_test = sc.transform(X_test)\n",
    "\n",
    "# Create a Logistic Regression model and fit it to the training data\n",
    "lr = LogisticRegression(max_iter=1000)\n",
    "lr.fit(X_train, y_train)\n",
    "\n",
    "# Make predictions on the test set\n",
    "y_pred = lr.predict(X_test)\n",
    "\n",
    "# Display confusion matrix and classification report\n",
    "print(\"Confusion Matrix:\\n\", confusion_matrix(y_test, y_pred))\n",
    "print(\"\\nClassification Report:\\n\", classification_report(y_test, y_pred))\n",
    "\n",
    "# Calculate accuracy and F1 score\n",
    "accuracy = accuracy_score(y_test, y_pred)\n",
    "f1 = f1_score(y_test, y_pred, average='weighted')\n",
    "\n",
    "print(f\"Accuracy: {accuracy:.4f}\")\n",
    "print(f\"F1 Score: {f1:.4f}\")\n",
    "\n",
    "\n"
   ]
  },
  {
   "cell_type": "code",
   "execution_count": 22,
   "outputs": [],
   "source": [],
   "metadata": {
    "collapsed": false,
    "ExecuteTime": {
     "end_time": "2023-11-11T23:34:58.637303Z",
     "start_time": "2023-11-11T23:34:58.123856Z"
    }
   },
   "id": "dbc3576fb722ac12"
  },
  {
   "cell_type": "code",
   "execution_count": 16,
   "outputs": [],
   "source": [],
   "metadata": {
    "collapsed": false,
    "ExecuteTime": {
     "end_time": "2023-11-11T23:20:31.781151Z",
     "start_time": "2023-11-11T23:20:31.509083Z"
    }
   },
   "id": "48b8e45941df5541"
  },
  {
   "cell_type": "code",
   "execution_count": 16,
   "outputs": [],
   "source": [],
   "metadata": {
    "collapsed": false,
    "ExecuteTime": {
     "end_time": "2023-11-11T23:20:42.454281Z",
     "start_time": "2023-11-11T23:20:42.389427Z"
    }
   },
   "id": "683f9370b6e8e628"
  },
  {
   "cell_type": "code",
   "execution_count": null,
   "outputs": [],
   "source": [],
   "metadata": {
    "collapsed": false
   },
   "id": "558c984314695535"
  }
 ],
 "metadata": {
  "kernelspec": {
   "display_name": "Python 3",
   "language": "python",
   "name": "python3"
  },
  "language_info": {
   "codemirror_mode": {
    "name": "ipython",
    "version": 2
   },
   "file_extension": ".py",
   "mimetype": "text/x-python",
   "name": "python",
   "nbconvert_exporter": "python",
   "pygments_lexer": "ipython2",
   "version": "2.7.6"
  }
 },
 "nbformat": 4,
 "nbformat_minor": 5
}
