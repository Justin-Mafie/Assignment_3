{
 "cells": [
  {
   "cell_type": "code",
   "execution_count": 17,
   "id": "initial_id",
   "metadata": {
    "collapsed": true,
    "ExecuteTime": {
     "end_time": "2023-11-11T23:29:09.182338Z",
     "start_time": "2023-11-11T23:29:08.158169Z"
    }
   },
   "outputs": [
    {
     "name": "stdout",
     "output_type": "stream",
     "text": [
      "Missing values:\n",
      " id                  0\n",
      "age                 9\n",
      "bp                 12\n",
      "sg                 47\n",
      "al                 46\n",
      "su                 49\n",
      "rbc               152\n",
      "pc                 65\n",
      "pcc                 4\n",
      "ba                  4\n",
      "bgr                44\n",
      "bu                 19\n",
      "sc                 17\n",
      "sod                87\n",
      "pot                88\n",
      "hemo               52\n",
      "pcv                70\n",
      "wc                105\n",
      "rc                130\n",
      "htn                 2\n",
      "dm                  2\n",
      "cad                 2\n",
      "appet               1\n",
      "pe                  1\n",
      "ane                 1\n",
      "classification      0\n",
      "dtype: int64\n"
     ]
    },
    {
     "name": "stderr",
     "output_type": "stream",
     "text": [
      "/var/folders/gs/tjq0574s2hg_7z341jm8cy1w0000gn/T/ipykernel_63444/2700136731.py:24: FutureWarning: In a future version, the Index constructor will not infer numeric dtypes when passed object-dtype sequences (matching Series behavior)\n",
      "  X_imputed = pd.get_dummies(X_imputed, drop_first=True)\n",
      "/var/folders/gs/tjq0574s2hg_7z341jm8cy1w0000gn/T/ipykernel_63444/2700136731.py:24: FutureWarning: In a future version, the Index constructor will not infer numeric dtypes when passed object-dtype sequences (matching Series behavior)\n",
      "  X_imputed = pd.get_dummies(X_imputed, drop_first=True)\n",
      "/var/folders/gs/tjq0574s2hg_7z341jm8cy1w0000gn/T/ipykernel_63444/2700136731.py:24: FutureWarning: In a future version, the Index constructor will not infer numeric dtypes when passed object-dtype sequences (matching Series behavior)\n",
      "  X_imputed = pd.get_dummies(X_imputed, drop_first=True)\n",
      "/var/folders/gs/tjq0574s2hg_7z341jm8cy1w0000gn/T/ipykernel_63444/2700136731.py:24: FutureWarning: In a future version, the Index constructor will not infer numeric dtypes when passed object-dtype sequences (matching Series behavior)\n",
      "  X_imputed = pd.get_dummies(X_imputed, drop_first=True)\n",
      "/var/folders/gs/tjq0574s2hg_7z341jm8cy1w0000gn/T/ipykernel_63444/2700136731.py:24: FutureWarning: In a future version, the Index constructor will not infer numeric dtypes when passed object-dtype sequences (matching Series behavior)\n",
      "  X_imputed = pd.get_dummies(X_imputed, drop_first=True)\n",
      "/var/folders/gs/tjq0574s2hg_7z341jm8cy1w0000gn/T/ipykernel_63444/2700136731.py:24: FutureWarning: In a future version, the Index constructor will not infer numeric dtypes when passed object-dtype sequences (matching Series behavior)\n",
      "  X_imputed = pd.get_dummies(X_imputed, drop_first=True)\n",
      "/var/folders/gs/tjq0574s2hg_7z341jm8cy1w0000gn/T/ipykernel_63444/2700136731.py:24: FutureWarning: In a future version, the Index constructor will not infer numeric dtypes when passed object-dtype sequences (matching Series behavior)\n",
      "  X_imputed = pd.get_dummies(X_imputed, drop_first=True)\n",
      "/var/folders/gs/tjq0574s2hg_7z341jm8cy1w0000gn/T/ipykernel_63444/2700136731.py:24: FutureWarning: In a future version, the Index constructor will not infer numeric dtypes when passed object-dtype sequences (matching Series behavior)\n",
      "  X_imputed = pd.get_dummies(X_imputed, drop_first=True)\n",
      "/var/folders/gs/tjq0574s2hg_7z341jm8cy1w0000gn/T/ipykernel_63444/2700136731.py:24: FutureWarning: In a future version, the Index constructor will not infer numeric dtypes when passed object-dtype sequences (matching Series behavior)\n",
      "  X_imputed = pd.get_dummies(X_imputed, drop_first=True)\n",
      "/var/folders/gs/tjq0574s2hg_7z341jm8cy1w0000gn/T/ipykernel_63444/2700136731.py:24: FutureWarning: In a future version, the Index constructor will not infer numeric dtypes when passed object-dtype sequences (matching Series behavior)\n",
      "  X_imputed = pd.get_dummies(X_imputed, drop_first=True)\n",
      "/var/folders/gs/tjq0574s2hg_7z341jm8cy1w0000gn/T/ipykernel_63444/2700136731.py:24: FutureWarning: In a future version, the Index constructor will not infer numeric dtypes when passed object-dtype sequences (matching Series behavior)\n",
      "  X_imputed = pd.get_dummies(X_imputed, drop_first=True)\n",
      "/var/folders/gs/tjq0574s2hg_7z341jm8cy1w0000gn/T/ipykernel_63444/2700136731.py:24: FutureWarning: In a future version, the Index constructor will not infer numeric dtypes when passed object-dtype sequences (matching Series behavior)\n",
      "  X_imputed = pd.get_dummies(X_imputed, drop_first=True)\n"
     ]
    },
    {
     "name": "stdout",
     "output_type": "stream",
     "text": [
      "Confusion Matrix:\n",
      " [[51  1]\n",
      " [ 0 28]]\n",
      "\n",
      "Classification Report:\n",
      "               precision    recall  f1-score   support\n",
      "\n",
      "         ckd       1.00      0.98      0.99        52\n",
      "      notckd       0.97      1.00      0.98        28\n",
      "\n",
      "    accuracy                           0.99        80\n",
      "   macro avg       0.98      0.99      0.99        80\n",
      "weighted avg       0.99      0.99      0.99        80\n"
     ]
    }
   ],
   "source": [
    "import pandas as pd\n",
    "from sklearn.model_selection import train_test_split\n",
    "from sklearn.preprocessing import StandardScaler\n",
    "from sklearn.impute import SimpleImputer\n",
    "from sklearn.linear_model import LogisticRegression\n",
    "from sklearn.metrics import confusion_matrix, classification_report\n",
    "\n",
    "# Load the dataset from the CSV file\n",
    "df = pd.read_csv('kidney_disease.csv')\n",
    "\n",
    "# Check for missing values\n",
    "print(\"Missing values:\\n\", df.isnull().sum())\n",
    "\n",
    "# Assuming 'classification' is the target variable\n",
    "# Separate features (X) and target variable (y)\n",
    "X = df.drop('classification', axis=1)\n",
    "y = df['classification']\n",
    "\n",
    "# Handle missing values by imputing with the most frequent value\n",
    "imputer = SimpleImputer(strategy='most_frequent')\n",
    "X_imputed = pd.DataFrame(imputer.fit_transform(X), columns=X.columns)\n",
    "\n",
    "# One-hot encode categorical variables\n",
    "X_imputed = pd.get_dummies(X_imputed, drop_first=True)\n",
    "\n",
    "# Split the data into training and testing sets\n",
    "X_train, X_test, y_train, y_test = train_test_split(X_imputed, y, test_size=0.2, random_state=42)\n",
    "\n",
    "# Standardize the features using StandardScaler\n",
    "sc = StandardScaler()\n",
    "X_train = sc.fit_transform(X_train)\n",
    "X_test = sc.transform(X_test)\n",
    "\n",
    "# Create a Logistic Regression model and fit it to the training data\n",
    "lr = LogisticRegression(max_iter=1000)\n",
    "lr.fit(X_train, y_train)\n",
    "\n",
    "# Make predictions on the test set\n",
    "y_pred = lr.predict(X_test)\n",
    "\n",
    "# Display confusion matrix and classification report\n",
    "print(\"Confusion Matrix:\\n\", confusion_matrix(y_test, y_pred))\n",
    "print(\"\\nClassification Report:\\n\", classification_report(y_test, y_pred))\n",
    "\n"
   ]
  },
  {
   "cell_type": "code",
   "execution_count": null,
   "outputs": [],
   "source": [
    "v"
   ],
   "metadata": {
    "collapsed": false,
    "ExecuteTime": {
     "start_time": "2023-11-11T23:05:00.910578Z"
    }
   },
   "id": "f0ab3c312c61dc28"
  },
  {
   "cell_type": "code",
   "execution_count": 16,
   "outputs": [],
   "source": [],
   "metadata": {
    "collapsed": false,
    "ExecuteTime": {
     "end_time": "2023-11-11T23:29:02.110232Z",
     "start_time": "2023-11-11T23:29:01.570553Z"
    }
   },
   "id": "a1cd82d9ce5334f6"
  },
  {
   "cell_type": "code",
   "execution_count": null,
   "outputs": [],
   "source": [],
   "metadata": {
    "collapsed": false
   },
   "id": "ef1dc04d6af0cc8b"
  }
 ],
 "metadata": {
  "kernelspec": {
   "display_name": "Python 3",
   "language": "python",
   "name": "python3"
  },
  "language_info": {
   "codemirror_mode": {
    "name": "ipython",
    "version": 2
   },
   "file_extension": ".py",
   "mimetype": "text/x-python",
   "name": "python",
   "nbconvert_exporter": "python",
   "pygments_lexer": "ipython2",
   "version": "2.7.6"
  }
 },
 "nbformat": 4,
 "nbformat_minor": 5
}
