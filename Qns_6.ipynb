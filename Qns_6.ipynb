{
 "cells": [
  {
   "cell_type": "code",
   "execution_count": 10,
   "id": "initial_id",
   "metadata": {
    "collapsed": true,
    "ExecuteTime": {
     "end_time": "2023-11-07T17:16:31.312018Z",
     "start_time": "2023-11-07T17:16:24.700121Z"
    }
   },
   "outputs": [
    {
     "name": "stdout",
     "output_type": "stream",
     "text": [
      "Accuracy: 0.9044444444444445\n"
     ]
    }
   ],
   "source": [
    "import pandas as pd\n",
    "from sklearn.model_selection import train_test_split\n",
    "from sklearn.linear_model import LogisticRegression\n",
    "from sklearn.metrics import accuracy_score\n",
    "\n",
    "# Load the dataset\n",
    "data = pd.read_csv('spam_or_not_spam.csv')\n",
    "\n",
    "# Adding empty columns\n",
    "data['hyperlink'] = None\n",
    "data['free'] = None\n",
    "data['click'] = None\n",
    "data['business'] = None\n",
    "data['frequency'] = None\n",
    "\n",
    "# Define a function to extract the most frequent word ratio\n",
    "def get_frequency(text):\n",
    "    if isinstance(text, str):  # Check if 'text' is a string\n",
    "        words = text.split()\n",
    "        if len(words) == 0:\n",
    "            return 0\n",
    "        word_counts = {word: words.count(word) for word in set(words)}\n",
    "        most_frequent_word = max(word_counts, key=word_counts.get)\n",
    "        return word_counts[most_frequent_word] / len(words)\n",
    "    else:\n",
    "        return 0\n",
    "\n",
    "# Iterate through each row and fill in the columns\n",
    "for index, row in data.iterrows():\n",
    "    text = row['email']\n",
    "\n",
    "    data.at[index, 'hyperlink'] = int('hyperlink' in str(text))\n",
    "    data.at[index, 'free'] = int('free' in str(text))\n",
    "    data.at[index, 'click'] = int('click' in str(text))\n",
    "    data.at[index, 'business'] = int('business' in str(text))\n",
    "    data.at[index, 'frequency'] = get_frequency(text)\n",
    "\n",
    "# Extract features and labels as lists\n",
    "X = data[['hyperlink', 'free', 'click', 'business', 'frequency']].values\n",
    "y = data['label'].values\n",
    "\n",
    "# Split the data into training (70%) and testing (30%)\n",
    "X_train, X_test, y_train, y_test = train_test_split(X, y, test_size=0.3, random_state=42)\n",
    "\n",
    "# Create and train the Logistic Regression model\n",
    "model = LogisticRegression()\n",
    "model.fit(X_train, y_train)\n",
    "\n",
    "# Make predictions on the test set\n",
    "y_pred = model.predict(X_test)\n",
    "\n",
    "# Evaluate the model\n",
    "accuracy = accuracy_score(y_test, y_pred)\n",
    "print(\"Accuracy:\", accuracy)\n"
   ]
  },
  {
   "cell_type": "code",
   "execution_count": null,
   "outputs": [],
   "source": [],
   "metadata": {
    "collapsed": false
   },
   "id": "a9f6797f49ee1468"
  }
 ],
 "metadata": {
  "kernelspec": {
   "display_name": "Python 3",
   "language": "python",
   "name": "python3"
  },
  "language_info": {
   "codemirror_mode": {
    "name": "ipython",
    "version": 2
   },
   "file_extension": ".py",
   "mimetype": "text/x-python",
   "name": "python",
   "nbconvert_exporter": "python",
   "pygments_lexer": "ipython2",
   "version": "2.7.6"
  }
 },
 "nbformat": 4,
 "nbformat_minor": 5
}
